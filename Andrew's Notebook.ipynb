{
 "cells": [
  {
   "cell_type": "markdown",
   "metadata": {},
   "source": [
    "# Andrew Wester's Notebook\n",
    "**[GitHub Profile](https://github.com/steeznation16)**\n",
    "\n",
    "**Flatiron School - Full Time Immersive Online Data Science Bootamp -- October 2018 Cohort**\n",
    "\n",
    "**Graduated -- April 1, 2019**"
   ]
  },
  {
   "cell_type": "markdown",
   "metadata": {
    "toc": true
   },
   "source": [
    "<h1>Table of Contents<span class=\"tocSkip\"></span></h1>\n",
    "<div class=\"toc\"><ul class=\"toc-item\"><li><span><a href=\"#Andrew-Wester's-Notebook\" data-toc-modified-id=\"Andrew-Wester's-Notebook-1\">Andrew Wester's Notebook</a></span><ul class=\"toc-item\"><li><ul class=\"toc-item\"><li><span><a href=\"#Question-from-Saturday,-April-13\" data-toc-modified-id=\"Question-from-Saturday,-April-13-1.0.1\">Question from Saturday, April 13</a></span><ul class=\"toc-item\"><li><span><a href=\"#Solution:\" data-toc-modified-id=\"Solution:-1.0.1.1\">Solution:</a></span></li></ul></li><li><span><a href=\"#Question-from-Friday,-April-12-@-9:00-AM\" data-toc-modified-id=\"Question-from-Friday,-April-12-@-9:00-AM-1.0.2\">Question from Friday, April 12 @ 9:00 AM</a></span><ul class=\"toc-item\"><li><span><a href=\"#Solution:\" data-toc-modified-id=\"Solution:-1.0.2.1\">Solution:</a></span></li></ul></li><li><span><a href=\"#Question-from-Friday,-April-12-@-8:30-AM\" data-toc-modified-id=\"Question-from-Friday,-April-12-@-8:30-AM-1.0.3\">Question from Friday, April 12 @ 8:30 AM</a></span><ul class=\"toc-item\"><li><span><a href=\"#Longer-Solution:\" data-toc-modified-id=\"Longer-Solution:-1.0.3.1\">Longer Solution:</a></span></li><li><span><a href=\"#Shortcut-Solution:\" data-toc-modified-id=\"Shortcut-Solution:-1.0.3.2\">Shortcut Solution:</a></span></li></ul></li><li><span><a href=\"#Question-from-Thursday,-April-11\" data-toc-modified-id=\"Question-from-Thursday,-April-11-1.0.4\">Question from Thursday, April 11</a></span><ul class=\"toc-item\"><li><span><a href=\"#Solution:\" data-toc-modified-id=\"Solution:-1.0.4.1\">Solution:</a></span></li></ul></li></ul></li></ul></li></ul></div>"
   ]
  },
  {
   "cell_type": "code",
   "execution_count": 8,
   "metadata": {},
   "outputs": [],
   "source": [
    "# Load Libraries in case there's need of use\n",
    "import pandas as pd\n",
    "import numpy as np\n",
    "import matplotlib.pyplot as plt\n",
    "%matplotlib inline"
   ]
  },
  {
   "cell_type": "markdown",
   "metadata": {},
   "source": [
    "---"
   ]
  },
  {
   "cell_type": "markdown",
   "metadata": {},
   "source": [
    "### Question from Saturday, April 13"
   ]
  },
  {
   "cell_type": "markdown",
   "metadata": {},
   "source": [
    "#### Solution:"
   ]
  },
  {
   "cell_type": "markdown",
   "metadata": {},
   "source": [
    "### Question from Friday, April 12 @ 9:00 AM\n",
    "\n",
    "There's a staircase with N steps, and you can climb 1 or 2 steps at a time. Given N, write a function that returns the number of unique ways you can climb the staircase. The order of the steps matters.\n",
    "\n",
    "For example, if N is 4, then there are 5 unique ways:\n",
    "\n",
    "- 1, 1, 1, 1\n",
    "- 2, 1, 1\n",
    "- 1, 2, 1\n",
    "- 1, 1, 2\n",
    "- 2, 2\n",
    "\n",
    "What if, instead of being able to climb 1 or 2 steps at a time, you could climb any number from a set of positive integers X? For example, if X = {1, 3, 5}, you could climb 1, 3, or 5 steps at a time. Generalize your function to take in X."
   ]
  },
  {
   "cell_type": "code",
   "execution_count": 9,
   "metadata": {},
   "outputs": [],
   "source": [
    "N = 4\n",
    "steps = [1, 2]"
   ]
  },
  {
   "cell_type": "markdown",
   "metadata": {},
   "source": [
    "#### Solution:"
   ]
  },
  {
   "cell_type": "code",
   "execution_count": 10,
   "metadata": {},
   "outputs": [],
   "source": [
    "def staircase(n):\n",
    "    if n <= 1:\n",
    "        return 1\n",
    "    return staircase(n - 1) + staircase(n - 2)"
   ]
  },
  {
   "cell_type": "code",
   "execution_count": 11,
   "metadata": {},
   "outputs": [
    {
     "name": "stdout",
     "output_type": "stream",
     "text": [
      "Result for 1 number of stairs: 1\n",
      "Result for 2 number of stairs: 2\n",
      "Result for 3 number of stairs: 3\n",
      "Result for 4 number of stairs: 5\n",
      "Result for 5 number of stairs: 8\n",
      "Result for 6 number of stairs: 13\n",
      "Result for 7 number of stairs: 21\n",
      "Result for 8 number of stairs: 34\n",
      "Result for 9 number of stairs: 55\n",
      "Result for 10 number of stairs: 89\n",
      "Result for 11 number of stairs: 144\n",
      "Result for 12 number of stairs: 233\n",
      "Result for 13 number of stairs: 377\n",
      "Result for 14 number of stairs: 610\n",
      "Result for 15 number of stairs: 987\n",
      "CPU times: user 1.09 ms, sys: 218 µs, total: 1.3 ms\n",
      "Wall time: 1.13 ms\n"
     ]
    }
   ],
   "source": [
    "%%time\n",
    "# This can be too time consuming for a large number of stairs\n",
    "for i in range(1, 16):\n",
    "    print(\"Result for {} number of stairs: {}\".format(i, staircase(i)))"
   ]
  },
  {
   "cell_type": "code",
   "execution_count": 12,
   "metadata": {},
   "outputs": [],
   "source": [
    "def staircase(n):\n",
    "    a, b = 1, 2\n",
    "    for _ in range(n - 1):\n",
    "        a, b = b, a + b\n",
    "    return a"
   ]
  },
  {
   "cell_type": "code",
   "execution_count": 13,
   "metadata": {},
   "outputs": [
    {
     "name": "stdout",
     "output_type": "stream",
     "text": [
      "Result for 1 number of stairs: 1\n",
      "Result for 2 number of stairs: 2\n",
      "Result for 3 number of stairs: 3\n",
      "Result for 4 number of stairs: 5\n",
      "Result for 5 number of stairs: 8\n",
      "Result for 6 number of stairs: 13\n",
      "Result for 7 number of stairs: 21\n",
      "Result for 8 number of stairs: 34\n",
      "Result for 9 number of stairs: 55\n",
      "Result for 10 number of stairs: 89\n",
      "Result for 11 number of stairs: 144\n",
      "Result for 12 number of stairs: 233\n",
      "Result for 13 number of stairs: 377\n",
      "Result for 14 number of stairs: 610\n",
      "Result for 15 number of stairs: 987\n",
      "CPU times: user 585 µs, sys: 168 µs, total: 753 µs\n",
      "Wall time: 573 µs\n"
     ]
    }
   ],
   "source": [
    "%%time\n",
    "for i in range(1, 16):\n",
    "    print(\"Result for {} number of stairs: {}\".format(i, staircase(i)))"
   ]
  },
  {
   "cell_type": "markdown",
   "metadata": {},
   "source": [
    "---"
   ]
  },
  {
   "cell_type": "markdown",
   "metadata": {},
   "source": [
    "### Question from Friday, April 12 @ 8:30 AM\n",
    "\n",
    "Write a function `solution(A, K)` where, given a list of numbers and a number K, return whether any two numbers from the list add up to K.\n",
    "\n",
    "For Example: Given the array A = [10, 15, 3, 7], and K = 17, `solution(A, K)` should return `TRUE`, since 10 + 7 = 17\n",
    "\n",
    "BONUS: Can you do this in one pass?"
   ]
  },
  {
   "cell_type": "code",
   "execution_count": 14,
   "metadata": {},
   "outputs": [],
   "source": [
    "A = [10, 15, 3, 7]\n",
    "K = 17\n",
    "# Should return TRUE since 10 + 7 = 17"
   ]
  },
  {
   "cell_type": "markdown",
   "metadata": {},
   "source": [
    "#### Longer Solution:"
   ]
  },
  {
   "cell_type": "code",
   "execution_count": 15,
   "metadata": {
    "scrolled": true
   },
   "outputs": [],
   "source": [
    "def solution(A, K):\n",
    "    seen = set()\n",
    "    for num in A:\n",
    "        if K - num in seen:\n",
    "            return True\n",
    "        seen.add(num)\n",
    "    return False"
   ]
  },
  {
   "cell_type": "code",
   "execution_count": 16,
   "metadata": {},
   "outputs": [
    {
     "data": {
      "text/plain": [
       "True"
      ]
     },
     "execution_count": 16,
     "metadata": {},
     "output_type": "execute_result"
    }
   ],
   "source": [
    "solution(A, K)"
   ]
  },
  {
   "cell_type": "markdown",
   "metadata": {},
   "source": [
    "#### Shortcut Solution:\n",
    "**We know we can solve using `itertools`, but is there a way to do this manually if an interviewer won't let us use something like `itertools`??**"
   ]
  },
  {
   "cell_type": "code",
   "execution_count": 17,
   "metadata": {},
   "outputs": [],
   "source": [
    "# Shortcut Method using Itertools\n",
    "import itertools\n",
    "def solution(A):\n",
    "    return any(sum(combination) == 17 for combination in itertools.combinations(A, 2))"
   ]
  },
  {
   "cell_type": "code",
   "execution_count": 18,
   "metadata": {
    "scrolled": true
   },
   "outputs": [
    {
     "data": {
      "text/plain": [
       "True"
      ]
     },
     "execution_count": 18,
     "metadata": {},
     "output_type": "execute_result"
    }
   ],
   "source": [
    "solution(A)"
   ]
  },
  {
   "cell_type": "markdown",
   "metadata": {},
   "source": [
    "---"
   ]
  },
  {
   "cell_type": "markdown",
   "metadata": {},
   "source": [
    "### Question from Thursday, April 11\n",
    "You are given a bag of coins, and asked to flip each coin and record the results in an array, where 0 is Heads, and 1 is Tails. The array has a length of N, and values will only be 0 or 1. \n",
    "\n",
    "Write a function `solution(A)` where, given the array (A), you calculate the least number of coins that need to be flipped over in order to make all coins in the array the same.\n",
    "\n",
    "For Example: Given the array A = [1, 0, 1, 1, 1, 0, 0, 1, 1, 0], `solution(A)` should return `4`, since there were 4 Heads recorded and 6 Tails. Thus, the 4 Heads would need to be flipped to Tails in order for all 10 coins to show Tails."
   ]
  },
  {
   "cell_type": "code",
   "execution_count": 19,
   "metadata": {},
   "outputs": [],
   "source": [
    "A = [1, 0, 1, 1, 1, 0, 0, 1, 1, 0]\n",
    "# Solution should return 4, since there were 4 Heads (0) and 6 Tails (1)"
   ]
  },
  {
   "cell_type": "markdown",
   "metadata": {},
   "source": [
    "#### Solution:"
   ]
  },
  {
   "cell_type": "code",
   "execution_count": 20,
   "metadata": {},
   "outputs": [],
   "source": [
    "def solution(A):\n",
    "    count = 0\n",
    "    heads = 0\n",
    "    tails = 0\n",
    "    for i in A:\n",
    "        if i == 0:\n",
    "            heads += 1\n",
    "        else:\n",
    "            tails += 1\n",
    "    print(\"Total Heads: {}\".format(heads))\n",
    "    print(\"Total Tails: {}\".format(tails))\n",
    "    if heads > tails:\n",
    "        return tails\n",
    "    elif heads < tails:\n",
    "        return heads\n",
    "    else:\n",
    "        return (heads + tails // 2)"
   ]
  },
  {
   "cell_type": "code",
   "execution_count": 21,
   "metadata": {
    "scrolled": true
   },
   "outputs": [
    {
     "name": "stdout",
     "output_type": "stream",
     "text": [
      "Total Heads: 4\n",
      "Total Tails: 6\n"
     ]
    },
    {
     "data": {
      "text/plain": [
       "4"
      ]
     },
     "execution_count": 21,
     "metadata": {},
     "output_type": "execute_result"
    }
   ],
   "source": [
    "solution(A)"
   ]
  },
  {
   "cell_type": "markdown",
   "metadata": {},
   "source": [
    "---"
   ]
  },
  {
   "cell_type": "code",
   "execution_count": null,
   "metadata": {},
   "outputs": [],
   "source": []
  }
 ],
 "metadata": {
  "kernelspec": {
   "display_name": "Python 3",
   "language": "python",
   "name": "python3"
  },
  "language_info": {
   "codemirror_mode": {
    "name": "ipython",
    "version": 3
   },
   "file_extension": ".py",
   "mimetype": "text/x-python",
   "name": "python",
   "nbconvert_exporter": "python",
   "pygments_lexer": "ipython3",
   "version": "3.7.1"
  },
  "toc": {
   "base_numbering": 1,
   "nav_menu": {},
   "number_sections": false,
   "sideBar": true,
   "skip_h1_title": false,
   "title_cell": "Table of Contents",
   "title_sidebar": "Contents",
   "toc_cell": true,
   "toc_position": {
    "height": "calc(100% - 180px)",
    "left": "10px",
    "top": "150px",
    "width": "266px"
   },
   "toc_section_display": true,
   "toc_window_display": true
  }
 },
 "nbformat": 4,
 "nbformat_minor": 2
}
